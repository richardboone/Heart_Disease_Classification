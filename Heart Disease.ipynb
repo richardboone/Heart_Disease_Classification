{
 "cells": [
  {
   "cell_type": "code",
   "execution_count": 15,
   "metadata": {
    "collapsed": true
   },
   "outputs": [],
   "source": [
    "\n",
    "# Divides a set on a specific column. Can handle numeric or nominal values\n",
    "#pseudocode for forming individual trees\n",
    "def divideset(rows,column,value):\n",
    "   # Make a function that tells us if a row is in the first group (true) or the second group (false)\n",
    "   split_function=None\n",
    "   if isinstance(value,int) or isinstance(value,float): # check if the value is a number i.e int or float\n",
    "      split_function=lambda row:row[column]>=value\n",
    "   else:\n",
    "      split_function=lambda row:row[column]==value\n",
    "   \n",
    "   # Divide the rows into two sets and return them\n",
    "   set1=[row for row in rows if split_function(row)]\n",
    "   set2=[row for row in rows if not split_function(row)]\n",
    "   return (set1,set2)\n"
   ]
  },
  {
   "cell_type": "markdown",
   "metadata": {},
   "source": [
    "<h1>Here we imort all the modules, the data, and normalize all the data so we can analyze it<h1>\n",
    "<p>Because datasets were inconsistent with their portrayal of heart disease, we change the dataset to a binary classification. In the final dataset, We set all classifications of heart disease to 1 and all classifications lacking heart disease to 0.<p>"
   ]
  },
  {
   "cell_type": "code",
   "execution_count": 80,
   "metadata": {
    "collapsed": false
   },
   "outputs": [],
   "source": [
    "from __future__ import print_function\n",
    "import numpy as np\n",
    "import plotly.graph_objs as go\n",
    "import plotly.plotly as py\n",
    "import plotly.tools as pt\n",
    "import pandas as pd # Data frames\n",
    "import matplotlib.pyplot as plt # Visuals\n",
    "from sklearn.model_selection import train_test_split # Create training and test sets\n",
    "from sklearn.neighbors import KNeighborsClassifier # Kth Nearest Neighbor\n",
    "from sklearn.tree import DecisionTreeClassifier # Decision Trees\n",
    "from sklearn.tree import export_graphviz # Extract Decision Tree visual\n",
    "from sklearn import tree #decision trees\n",
    "from sklearn.ensemble import RandomForestClassifier # Random Forest\n",
    "from sklearn.neural_network import MLPClassifier # Neural Networks\n",
    "from sklearn.metrics import roc_curve # ROC Curves\n",
    "from sklearn.metrics import auc # AUC \n",
    "from sklearn import svm\n",
    "from urllib.request import urlopen # Get data from UCI Machine Learning Repository\n",
    "plt.style.use('ggplot')\n",
    "pt.set_credentials_file(username='rboone125', api_key='1woUJFy3IKuR8txjeC02')\n",
    "\n",
    "\n",
    "Cleveland_data_URL = 'http://archive.ics.uci.edu/ml/machine-learning-databases/heart-disease/processed.hungarian.data'\n",
    "Hungarian_data_URL = 'http://archive.ics.uci.edu/ml/machine-learning-databases/heart-disease/processed.hungarian.data'\n",
    "Switzerland_data_URL = 'http://archive.ics.uci.edu/ml/machine-learning-databases/heart-disease/processed.switzerland.data'\n",
    "\n",
    "np.set_printoptions(threshold=np.nan)#makes it so that we can see a whole array when we output it\n",
    "\n",
    "names = ['age', 'sex', 'cp', 'trestbps', 'chol', 'fbs', 'restecg', 'thalach', 'exang', 'oldpeak', 'slope', 'ca', 'thal', 'heart disease(by angiography)']\n",
    "\n",
    "ClevelandHeartDisease = pd.read_csv(urlopen(Cleveland_data_URL), names = names)#gets Cleveland data\n",
    "HungarianHeartDisease = pd.read_csv(urlopen(Hungarian_data_URL), names = names)#gets Hungary data\n",
    "SwitzerlandHeartDisease = pd.read_csv(urlopen(Switzerland_data_URL), names = names)#gets Switzerland data\n",
    "datatemp = [ClevelandHeartDisease, HungarianHeartDisease, SwitzerlandHeartDisease]#combines all arrays into a list\n",
    "\n",
    "#heartDisease.set_index(['id_number'], inplace = True)\n",
    "#I don't know what that did, but it was from Raoul's code and it was giving me bugs so I got rid of it\n",
    "data = pd.concat(datatemp)#combines list into one array\n",
    "del data['ca']\n",
    "del data['slope']\n",
    "del data['thal']#these delete the columns that have a lot of ? values and so aren't very useful to us\n",
    "\n",
    "data = data.replace('?',np.nan)#convert ? values to np.nan\n",
    "\n",
    "for item in data:#converts everything to floats\n",
    "    data[item] = pd.to_numeric(data[item])\n",
    "\n",
    "\n"
   ]
  },
  {
   "cell_type": "code",
   "execution_count": 81,
   "metadata": {
    "collapsed": false
   },
   "outputs": [
    {
     "data": {
      "text/html": [
       "<iframe id=\"igraph\" scrolling=\"no\" style=\"border:none;\" seamless=\"seamless\" src=\"https://plot.ly/~rboone125/18.embed\" height=\"525px\" width=\"100%\"></iframe>"
      ],
      "text/plain": [
       "<plotly.tools.PlotlyDisplay object>"
      ]
     },
     "execution_count": 81,
     "metadata": {},
     "output_type": "execute_result"
    }
   ],
   "source": [
    "\n",
    "trace0 = go.Box(\n",
    "    y=data['age'],\n",
    "    name='age'\n",
    ")\n",
    "trace1 = go.Box(\n",
    "    y=data['sex'],\n",
    "    name='sex'\n",
    ")\n",
    "trace2 = go.Box(\n",
    "    y=data['cp'],\n",
    "    name='cp'\n",
    ")\n",
    "trace3 = go.Box(\n",
    "    y=data['trestbps'],\n",
    "    name='trestbps'\n",
    ")\n",
    "trace4 = go.Box(\n",
    "    y=data['chol'],\n",
    "    name='chol'\n",
    ")\n",
    "trace5 = go.Box(\n",
    "    y=data['fbs'],\n",
    "    name='fbs'\n",
    ")\n",
    "trace6 = go.Box(\n",
    "    y=data['restecg'],\n",
    "    name='restecg'\n",
    ")\n",
    "trace7 = go.Box(\n",
    "    y=data['thalach'],\n",
    "    name='thalach'\n",
    ")\n",
    "trace8 = go.Box(\n",
    "    y=data['exang'],\n",
    "    name='exang'\n",
    ")\n",
    "trace9 = go.Box(\n",
    "    y=data['oldpeak'],\n",
    "    name='oldpeak'\n",
    ")\n",
    "trace10 = go.Box(\n",
    "    y=data['heart disease(by angiography)'],\n",
    "    name='heart disease status'\n",
    ")\n",
    "plotdata = [trace0, trace1, trace2, trace3, trace4, trace5, trace6, trace7, trace8, trace9, trace10]\n",
    "py.iplot(plotdata)\n"
   ]
  },
  {
   "cell_type": "markdown",
   "metadata": {},
   "source": [
    "<p> We split the data into training and testing sets.  We use a training set size of 80%.  We use 42 as our random seed so that the experiment is repeatable.<p>"
   ]
  },
  {
   "cell_type": "code",
   "execution_count": 82,
   "metadata": {
    "collapsed": false
   },
   "outputs": [],
   "source": [
    "def normalize(heartDisease, toNormalize):#normalizes \n",
    "    result = heartDisease.copy()\n",
    "    for item in heartDisease.columns:\n",
    "        if (item in toNormalize):\n",
    "            max_value = heartDisease[item].max()\n",
    "            min_value = heartDisease[item].min()\n",
    "            result[item] = (heartDisease[item] - min_value) / (max_value - min_value)\n",
    "    return result\n",
    "toNormalize = ['age', 'cp', 'trestbps', 'chol', 'thalach', 'oldpeak']#columns to normalize\n",
    "data = normalize(data, toNormalize)\n",
    "data = data.dropna()#gets rid of nan values\n",
    "counter = 0\n",
    "for i in range(1,5):#replaces angiography numbers with 1\n",
    "    data['heart disease(by angiography)'] = data['heart disease(by angiography)'].replace(i,1)"
   ]
  },
  {
   "cell_type": "code",
   "execution_count": 83,
   "metadata": {
    "collapsed": false
   },
   "outputs": [
    {
     "data": {
      "text/html": [
       "<iframe id=\"igraph\" scrolling=\"no\" style=\"border:none;\" seamless=\"seamless\" src=\"https://plot.ly/~rboone125/20.embed\" height=\"525px\" width=\"100%\"></iframe>"
      ],
      "text/plain": [
       "<plotly.tools.PlotlyDisplay object>"
      ]
     },
     "execution_count": 83,
     "metadata": {},
     "output_type": "execute_result"
    }
   ],
   "source": [
    "\n",
    "trace0 = go.Box(\n",
    "    y=data['age'],\n",
    "    name='age'\n",
    ")\n",
    "trace1 = go.Box(\n",
    "    y=data['sex'],\n",
    "    name='sex'\n",
    ")\n",
    "trace2 = go.Box(\n",
    "    y=data['cp'],\n",
    "    name='cp'\n",
    ")\n",
    "trace3 = go.Box(\n",
    "    y=data['trestbps'],\n",
    "    name='trestbps'\n",
    ")\n",
    "trace4 = go.Box(\n",
    "    y=data['chol'],\n",
    "    name='chol'\n",
    ")\n",
    "trace5 = go.Box(\n",
    "    y=data['fbs'],\n",
    "    name='fbs'\n",
    ")\n",
    "trace6 = go.Box(\n",
    "    y=data['restecg'],\n",
    "    name='restecg'\n",
    ")\n",
    "trace7 = go.Box(\n",
    "    y=data['thalach'],\n",
    "    name='thalach'\n",
    ")\n",
    "trace8 = go.Box(\n",
    "    y=data['exang'],\n",
    "    name='exang'\n",
    ")\n",
    "trace9 = go.Box(\n",
    "    y=data['oldpeak'],\n",
    "    name='oldpeak'\n",
    ")\n",
    "trace10 = go.Box(\n",
    "    y=data['heart disease(by angiography)'],\n",
    "    name='heart disease status'\n",
    ")\n",
    "plotdata = [trace0, trace1, trace2, trace3, trace4, trace5, trace6, trace7, trace8, trace9, trace10]\n",
    "py.iplot(plotdata)\n"
   ]
  },
  {
   "cell_type": "code",
   "execution_count": 30,
   "metadata": {
    "collapsed": false,
    "scrolled": true
   },
   "outputs": [],
   "source": [
    "train0, test0 = train_test_split(data, test_size = 0.20, random_state = 42)# splits data into test set and train set\n",
    "\n"
   ]
  },
  {
   "cell_type": "markdown",
   "metadata": {},
   "source": [
    "<p>Here we create a decision tree to fit with the data<p>"
   ]
  },
  {
   "cell_type": "code",
   "execution_count": 40,
   "metadata": {
    "collapsed": false,
    "scrolled": true
   },
   "outputs": [
    {
     "ename": "NameError",
     "evalue": "name 'max_depth' is not defined",
     "output_type": "error",
     "traceback": [
      "\u001b[0;31m---------------------------------------------------------------------------\u001b[0m",
      "\u001b[0;31mNameError\u001b[0m                                 Traceback (most recent call last)",
      "\u001b[0;32m<ipython-input-40-1f68fb66aa40>\u001b[0m in \u001b[0;36m<module>\u001b[0;34m()\u001b[0m\n\u001b[1;32m      1\u001b[0m \u001b[0mclf\u001b[0m \u001b[1;33m=\u001b[0m \u001b[0mtree\u001b[0m\u001b[1;33m.\u001b[0m\u001b[0mDecisionTreeClassifier\u001b[0m\u001b[1;33m(\u001b[0m\u001b[1;33m)\u001b[0m\u001b[1;33m\u001b[0m\u001b[0m\n\u001b[0;32m----> 2\u001b[0;31m \u001b[0mmax_depth\u001b[0m\u001b[1;33m(\u001b[0m\u001b[0mclf\u001b[0m\u001b[1;33m,\u001b[0m \u001b[1;36m5\u001b[0m\u001b[1;33m)\u001b[0m\u001b[1;33m\u001b[0m\u001b[0m\n\u001b[0m\u001b[1;32m      3\u001b[0m \u001b[0mclf\u001b[0m \u001b[1;33m=\u001b[0m \u001b[0mclf\u001b[0m\u001b[1;33m.\u001b[0m\u001b[0mfit\u001b[0m\u001b[1;33m(\u001b[0m\u001b[0mtrain0\u001b[0m\u001b[1;33m[\u001b[0m\u001b[1;33m[\u001b[0m\u001b[1;34m'age'\u001b[0m\u001b[1;33m,\u001b[0m \u001b[1;34m'sex'\u001b[0m\u001b[1;33m,\u001b[0m \u001b[1;34m'cp'\u001b[0m\u001b[1;33m,\u001b[0m\u001b[1;34m'trestbps'\u001b[0m\u001b[1;33m,\u001b[0m\u001b[1;34m'chol'\u001b[0m\u001b[1;33m,\u001b[0m\u001b[1;34m'fbs'\u001b[0m\u001b[1;33m,\u001b[0m\u001b[1;34m'restecg'\u001b[0m\u001b[1;33m,\u001b[0m\u001b[1;34m'thalach'\u001b[0m\u001b[1;33m,\u001b[0m\u001b[1;34m'exang'\u001b[0m\u001b[1;33m,\u001b[0m\u001b[1;34m'oldpeak'\u001b[0m\u001b[1;33m]\u001b[0m\u001b[1;33m]\u001b[0m\u001b[1;33m,\u001b[0m \u001b[0mtrain0\u001b[0m\u001b[1;33m[\u001b[0m\u001b[1;34m'heart disease(by angiography)'\u001b[0m\u001b[1;33m]\u001b[0m\u001b[1;33m)\u001b[0m\u001b[1;33m\u001b[0m\u001b[0m\n\u001b[1;32m      4\u001b[0m \u001b[0mpredictions\u001b[0m \u001b[1;33m=\u001b[0m \u001b[0mclf\u001b[0m\u001b[1;33m.\u001b[0m\u001b[0mpredict\u001b[0m\u001b[1;33m(\u001b[0m\u001b[0mtest0\u001b[0m\u001b[1;33m[\u001b[0m\u001b[1;33m[\u001b[0m\u001b[1;34m'age'\u001b[0m\u001b[1;33m,\u001b[0m \u001b[1;34m'sex'\u001b[0m\u001b[1;33m,\u001b[0m \u001b[1;34m'cp'\u001b[0m\u001b[1;33m,\u001b[0m\u001b[1;34m'trestbps'\u001b[0m\u001b[1;33m,\u001b[0m\u001b[1;34m'chol'\u001b[0m\u001b[1;33m,\u001b[0m\u001b[1;34m'fbs'\u001b[0m\u001b[1;33m,\u001b[0m\u001b[1;34m'restecg'\u001b[0m\u001b[1;33m,\u001b[0m\u001b[1;34m'thalach'\u001b[0m\u001b[1;33m,\u001b[0m\u001b[1;34m'exang'\u001b[0m\u001b[1;33m,\u001b[0m\u001b[1;34m'oldpeak'\u001b[0m\u001b[1;33m]\u001b[0m\u001b[1;33m]\u001b[0m\u001b[1;33m)\u001b[0m\u001b[1;33m\u001b[0m\u001b[0m\n\u001b[1;32m      5\u001b[0m \u001b[0mpredictright\u001b[0m \u001b[1;33m=\u001b[0m \u001b[1;36m0\u001b[0m\u001b[1;33m\u001b[0m\u001b[0m\n",
      "\u001b[0;31mNameError\u001b[0m: name 'max_depth' is not defined"
     ]
    }
   ],
   "source": [
    "clf = tree.DecisionTreeClassifier()\n",
    "max_depth(clf, 5)\n",
    "clf = clf.fit(train0[['age', 'sex', 'cp','trestbps','chol','fbs','restecg','thalach','exang','oldpeak']], train0['heart disease(by angiography)'])\n",
    "predictions = clf.predict(test0[['age', 'sex', 'cp','trestbps','chol','fbs','restecg','thalach','exang','oldpeak']])\n",
    "predictright = 0\n",
    "for i in range(0,predictions.shape[0]-1):\n",
    "    if (predictions[i]== test0.iloc[i][10]):\n",
    "        predictright +=1\n",
    "rightpercent = predictright/predictions.shape[0]\n",
    "rightpercent"
   ]
  },
  {
   "cell_type": "markdown",
   "metadata": {},
   "source": [
    "<p> 93% accuracy, very good for the size of the data we're working with.<p>\n",
    "<p> Below, we use a support vector machine to fit the data <p>"
   ]
  },
  {
   "cell_type": "code",
   "execution_count": 32,
   "metadata": {
    "collapsed": false
   },
   "outputs": [
    {
     "data": {
      "text/plain": [
       "0.7280701754385965"
      ]
     },
     "execution_count": 32,
     "metadata": {},
     "output_type": "execute_result"
    }
   ],
   "source": [
    "#clf.max_depth(4)\n",
    "svmtest = svm.SVC()\n",
    "svmtest.fit(train0[['age', 'sex', 'cp','trestbps','chol','fbs','restecg','thalach','exang','oldpeak']], train0['heart disease(by angiography)'])\n",
    "svmPredictions = svmtest.predict(test0[['age', 'sex', 'cp','trestbps','chol','fbs','restecg','thalach','exang','oldpeak']])\n",
    "predictrightsvm = 0\n",
    "for i in range(0,svmPredictions.shape[0]-1):\n",
    "    if (svmPredictions[i]== test0.iloc[i][10]):\n",
    "        predictrightsvm +=1\n",
    "rightpercentsvm = predictrightsvm/svmPredictions.shape[0]\n",
    "rightpercentsvm"
   ]
  },
  {
   "cell_type": "markdown",
   "metadata": {},
   "source": [
    "<p> SVM has a much worse performance than Decision Tree<p>\n"
   ]
  },
  {
   "cell_type": "code",
   "execution_count": 33,
   "metadata": {
    "collapsed": false
   },
   "outputs": [
    {
     "ename": "NameError",
     "evalue": "name 'visualize_tree' is not defined",
     "output_type": "error",
     "traceback": [
      "\u001b[0;31m---------------------------------------------------------------------------\u001b[0m",
      "\u001b[0;31mNameError\u001b[0m                                 Traceback (most recent call last)",
      "\u001b[0;32m<ipython-input-33-17ba4fef4ce6>\u001b[0m in \u001b[0;36m<module>\u001b[0;34m()\u001b[0m\n\u001b[1;32m      4\u001b[0m \u001b[1;31m#with open(\".\\dataTree.dot\", 'w') as f:\u001b[0m\u001b[1;33m\u001b[0m\u001b[1;33m\u001b[0m\u001b[0m\n\u001b[1;32m      5\u001b[0m \u001b[1;31m#    export_graphviz(clf, out_file = f)\u001b[0m\u001b[1;33m\u001b[0m\u001b[1;33m\u001b[0m\u001b[0m\n\u001b[0;32m----> 6\u001b[0;31m \u001b[0mvisualize_tree\u001b[0m\u001b[1;33m(\u001b[0m\u001b[0mclf\u001b[0m\u001b[1;33m,\u001b[0m \u001b[0mfeatures\u001b[0m\u001b[1;33m)\u001b[0m\u001b[1;33m\u001b[0m\u001b[0m\n\u001b[0m",
      "\u001b[0;31mNameError\u001b[0m: name 'visualize_tree' is not defined"
     ]
    }
   ],
   "source": [
    "dotfile = open('D:\\Documents\\coding\\Data_Science\\heart_disease\\dataTree.dot', 'w')\n",
    "dotfile = export_graphviz(clf, out_file = dotfile, feature_names = data.columns)\n",
    "#dotfile.close()\n",
    "#with open(\".\\dataTree.dot\", 'w') as f:\n",
    "#    export_graphviz(clf, out_file = f)\n",
    "visualize_tree(clf, features)"
   ]
  },
  {
   "cell_type": "code",
   "execution_count": 34,
   "metadata": {
    "collapsed": false,
    "scrolled": false
   },
   "outputs": [],
   "source": [
    "#PUTTING TOGETHER A DATASET FOR THE DATABASES THAT DO NOT HAVE ONLY 1S FOR HEART DISEASE\n",
    "datatemp2 = [ClevelandHeartDisease, SwitzerlandHeartDisease]\n",
    "data2 = pd.concat(datatemp2)\n",
    "del data2['ca']\n",
    "del data2['slope']\n",
    "del data2['thal']#these delete the columns that have a lot of ? values and so aren't very useful to us\n",
    "\n",
    "data2 = data2.replace('?',np.nan)#convert ? values to np.nan\n",
    "\n",
    "for item in data2:#converts everything to floats\n",
    "    data2[item] = pd.to_numeric(data2[item])\n",
    "\n",
    "data2 = normalize(data2, toNormalize)\n",
    "data2 = data2.dropna()#gets rid of nan values    \n",
    "train2, test2 = train_test_split(data2, test_size = 0.20, random_state = 42)#splits data into test set and training set\n",
    "\n",
    "#CREATING AND EDITING DATASET FOR JUST HUNGARIAN HEART DISEASE\n",
    "del HungarianHeartDisease['ca']\n",
    "del HungarianHeartDisease['slope']\n",
    "del HungarianHeartDisease['thal']#these delete the columns that have a lot of ? values and so aren't very useful to us\n",
    "HungarianHeartDisease = HungarianHeartDisease.replace('?',np.nan)#convert ? values to np.nan\n",
    "for item in HungarianHeartDisease:#converts everything to floats\n",
    "    HungarianHeartDisease[item] = pd.to_numeric(HungarianHeartDisease[item])\n",
    "HungarianHeartDisease = normalize(HungarianHeartDisease, toNormalize)\n",
    "HungarianHeartDisease = HungarianHeartDisease.dropna()#gets rid of nan values\n",
    "trainH, testH = train_test_split(HungarianHeartDisease, test_size = 0.20, random_state = 42)# splits data into test set and train set"
   ]
  },
  {
   "cell_type": "code",
   "execution_count": 35,
   "metadata": {
    "collapsed": false,
    "scrolled": true
   },
   "outputs": [
    {
     "data": {
      "text/plain": [
       "0.7169811320754716"
      ]
     },
     "execution_count": 35,
     "metadata": {},
     "output_type": "execute_result"
    }
   ],
   "source": [
    "clfH = tree.DecisionTreeClassifier()\n",
    "clfH = clfH.fit(trainH[['age', 'sex', 'cp','trestbps','chol','fbs','restecg','thalach','exang','oldpeak']], trainH['heart disease(by angiography)'])\n",
    "predictionsH = clfH.predict(testH[['age', 'sex', 'cp','trestbps','chol','fbs','restecg','thalach','exang','oldpeak']])\n",
    "predictrightH = 0\n",
    "predictionsH.shape[0]\n",
    "for i in range(0,predictionsH.shape[0]-1):\n",
    "    if (predictionsH[i]== testH.iloc[i][10]):\n",
    "        predictrightH +=1\n",
    "rightpercentH = predictrightH/predictionsH.shape[0]\n",
    "rightpercentH"
   ]
  },
  {
   "cell_type": "code",
   "execution_count": 23,
   "metadata": {
    "collapsed": false
   },
   "outputs": [
    {
     "data": {
      "text/plain": [
       "0.5967741935483871"
      ]
     },
     "execution_count": 23,
     "metadata": {},
     "output_type": "execute_result"
    }
   ],
   "source": [
    "clf2 = tree.DecisionTreeClassifier()\n",
    "clf2 = clf2.fit(train2[['age', 'sex', 'cp','trestbps','chol','fbs','restecg','thalach','exang','oldpeak']], train2['heart disease(by angiography)'])\n",
    "predictions2 = clf2.predict(test2[['age', 'sex', 'cp','trestbps','chol','fbs','restecg','thalach','exang','oldpeak']])\n",
    "predictright2 = 0\n",
    "for i in range(0,predictions2.shape[0]-1):\n",
    "    if (predictions2[i]== test2.iloc[i][10]):\n",
    "        predictright2 +=1\n",
    "rightpercent2 = predictright2/predictions2.shape[0]\n",
    "rightpercent2"
   ]
  },
  {
   "cell_type": "code",
   "execution_count": null,
   "metadata": {
    "collapsed": false
   },
   "outputs": [],
   "source": [
    "\n",
    "trace0 = go.Box(\n",
    "    y=data[]\n",
    ")\n",
    "trace1 = go.Box(\n",
    "    y=y1\n",
    ")\n",
    "data = [trace0, trace1]\n",
    "py.iplot(data)"
   ]
  },
  {
   "cell_type": "code",
   "execution_count": null,
   "metadata": {
    "collapsed": false
   },
   "outputs": [],
   "source": [
    "\n"
   ]
  },
  {
   "cell_type": "code",
   "execution_count": null,
   "metadata": {
    "collapsed": true
   },
   "outputs": [],
   "source": []
  },
  {
   "cell_type": "code",
   "execution_count": null,
   "metadata": {
    "collapsed": true
   },
   "outputs": [],
   "source": []
  }
 ],
 "metadata": {
  "kernelspec": {
   "display_name": "Python 3",
   "language": "python",
   "name": "python3"
  },
  "language_info": {
   "codemirror_mode": {
    "name": "ipython",
    "version": 3
   },
   "file_extension": ".py",
   "mimetype": "text/x-python",
   "name": "python",
   "nbconvert_exporter": "python",
   "pygments_lexer": "ipython3",
   "version": "3.6.0"
  }
 },
 "nbformat": 4,
 "nbformat_minor": 2
}
